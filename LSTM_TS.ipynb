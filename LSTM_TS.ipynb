{
  "nbformat": 4,
  "nbformat_minor": 0,
  "metadata": {
    "kernelspec": {
      "name": "python3",
      "display_name": "Python 3"
    },
    "language_info": {
      "codemirror_mode": {
        "name": "ipython",
        "version": 3
      },
      "file_extension": ".py",
      "mimetype": "text/x-python",
      "name": "python",
      "nbconvert_exporter": "python",
      "pygments_lexer": "ipython3",
      "version": "3.6.2"
    },
    "colab": {
      "name": "time.ipynb",
      "version": "0.3.2",
      "provenance": [],
      "collapsed_sections": [],
      "include_colab_link": true
    },
    "accelerator": "GPU"
  },
  "cells": [
    {
      "cell_type": "markdown",
      "metadata": {
        "id": "view-in-github",
        "colab_type": "text"
      },
      "source": [
        "<a href=\"https://colab.research.google.com/github/abhi9716/notebooks/blob/master/LSTM_TS.ipynb\" target=\"_parent\"><img src=\"https://colab.research.google.com/assets/colab-badge.svg\" alt=\"Open In Colab\"/></a>"
      ]
    },
    {
      "cell_type": "markdown",
      "metadata": {
        "id": "BTE2IOabdWbL",
        "colab_type": "text"
      },
      "source": [
        "# Load the Data"
      ]
    },
    {
      "cell_type": "code",
      "metadata": {
        "id": "CuolE8Z4dWbQ",
        "colab_type": "code",
        "colab": {
          "base_uri": "https://localhost:8080/",
          "height": 34
        },
        "outputId": "9495ac57-35aa-4c6d-8ec9-971c74d45496"
      },
      "source": [
        "import pandas as pd\n",
        "import numpy as np\n",
        "opsd_daily = pd.read_csv('opsd_germany_daily.csv', index_col=0, parse_dates=True)\n",
        "opsd_daily.shape"
      ],
      "execution_count": 139,
      "outputs": [
        {
          "output_type": "execute_result",
          "data": {
            "text/plain": [
              "(4383, 4)"
            ]
          },
          "metadata": {
            "tags": []
          },
          "execution_count": 139
        }
      ]
    },
    {
      "cell_type": "code",
      "metadata": {
        "id": "zjGff6q0dWb1",
        "colab_type": "code",
        "colab": {
          "base_uri": "https://localhost:8080/",
          "height": 173
        },
        "outputId": "8f3ff218-1122-4439-d593-f6e14845a311"
      },
      "source": [
        "opsd_daily.head(3)"
      ],
      "execution_count": 140,
      "outputs": [
        {
          "output_type": "execute_result",
          "data": {
            "text/html": [
              "<div>\n",
              "<style scoped>\n",
              "    .dataframe tbody tr th:only-of-type {\n",
              "        vertical-align: middle;\n",
              "    }\n",
              "\n",
              "    .dataframe tbody tr th {\n",
              "        vertical-align: top;\n",
              "    }\n",
              "\n",
              "    .dataframe thead th {\n",
              "        text-align: right;\n",
              "    }\n",
              "</style>\n",
              "<table border=\"1\" class=\"dataframe\">\n",
              "  <thead>\n",
              "    <tr style=\"text-align: right;\">\n",
              "      <th></th>\n",
              "      <th>Consumption</th>\n",
              "      <th>Wind</th>\n",
              "      <th>Solar</th>\n",
              "      <th>Wind+Solar</th>\n",
              "    </tr>\n",
              "    <tr>\n",
              "      <th>Date</th>\n",
              "      <th></th>\n",
              "      <th></th>\n",
              "      <th></th>\n",
              "      <th></th>\n",
              "    </tr>\n",
              "  </thead>\n",
              "  <tbody>\n",
              "    <tr>\n",
              "      <th>2006-01-01</th>\n",
              "      <td>1069.184</td>\n",
              "      <td>NaN</td>\n",
              "      <td>NaN</td>\n",
              "      <td>NaN</td>\n",
              "    </tr>\n",
              "    <tr>\n",
              "      <th>2006-01-02</th>\n",
              "      <td>1380.521</td>\n",
              "      <td>NaN</td>\n",
              "      <td>NaN</td>\n",
              "      <td>NaN</td>\n",
              "    </tr>\n",
              "    <tr>\n",
              "      <th>2006-01-03</th>\n",
              "      <td>1442.533</td>\n",
              "      <td>NaN</td>\n",
              "      <td>NaN</td>\n",
              "      <td>NaN</td>\n",
              "    </tr>\n",
              "  </tbody>\n",
              "</table>\n",
              "</div>"
            ],
            "text/plain": [
              "            Consumption  Wind  Solar  Wind+Solar\n",
              "Date                                            \n",
              "2006-01-01     1069.184   NaN    NaN         NaN\n",
              "2006-01-02     1380.521   NaN    NaN         NaN\n",
              "2006-01-03     1442.533   NaN    NaN         NaN"
            ]
          },
          "metadata": {
            "tags": []
          },
          "execution_count": 140
        }
      ]
    },
    {
      "cell_type": "code",
      "metadata": {
        "id": "O2Hk7McPJwfK",
        "colab_type": "code",
        "colab": {}
      },
      "source": [
        "opsd_daily.Wind.fillna(opsd_daily.Wind.mean(),inplace=True)\n",
        "\n",
        "opsd_daily.Solar.fillna(opsd_daily.Solar.mean(),inplace=True)\n",
        "opsd_daily['Wind+Solar'].fillna(opsd_daily['Wind+Solar'].mean(),inplace=True)"
      ],
      "execution_count": 0,
      "outputs": []
    },
    {
      "cell_type": "code",
      "metadata": {
        "id": "Jyqk3Y7sJwsT",
        "colab_type": "code",
        "colab": {}
      },
      "source": [
        ""
      ],
      "execution_count": 0,
      "outputs": []
    },
    {
      "cell_type": "markdown",
      "metadata": {
        "id": "f3Bm0Z9ydWb-",
        "colab_type": "text"
      },
      "source": [
        "# Data Cleaning"
      ]
    },
    {
      "cell_type": "code",
      "metadata": {
        "id": "qVDu6lqKdWb_",
        "colab_type": "code",
        "colab": {}
      },
      "source": [
        "# drop Date that are NaN\n",
        "opsd_daily = opsd_daily[pd.isna(opsd_daily.index)==False]\n",
        "# drop if target value is NaN\n",
        "opsd_daily = opsd_daily[pd.isna(opsd_daily['Consumption'])==False]"
      ],
      "execution_count": 0,
      "outputs": []
    },
    {
      "cell_type": "code",
      "metadata": {
        "id": "d90H0PmidWcF",
        "colab_type": "code",
        "colab": {}
      },
      "source": [
        "data=opsd_daily['Consumption']"
      ],
      "execution_count": 0,
      "outputs": []
    },
    {
      "cell_type": "code",
      "metadata": {
        "id": "79s4XZmVi1xZ",
        "colab_type": "code",
        "colab": {}
      },
      "source": [
        "# Let's load the required libs.\n",
        "# We'll be using the Tensorflow backend (default).\n",
        "from keras.models import Sequential\n",
        "from keras.layers.recurrent import LSTM\n",
        "from keras.layers.core import Dense, Activation, Dropout\n",
        "from sklearn.preprocessing import MinMaxScaler\n",
        "from sklearn.metrics import mean_squared_error\n",
        "from sklearn.utils import shuffle"
      ],
      "execution_count": 0,
      "outputs": []
    },
    {
      "cell_type": "code",
      "metadata": {
        "id": "eQyOkjT3i4pN",
        "colab_type": "code",
        "colab": {
          "base_uri": "https://localhost:8080/",
          "height": 102
        },
        "outputId": "80e8fef2-e9c9-41d2-861d-656eb5df5d07"
      },
      "source": [
        "# Get the raw data values from the pandas data frame.\n",
        "data_raw = data.values.astype(\"float32\").reshape(-1, 1)\n",
        "\n",
        "# We apply the MinMax scaler from sklearn\n",
        "# to normalize data in the (0, 1) interval.\n",
        "scaler = MinMaxScaler(feature_range = (0, 1))\n",
        "dataset = scaler.fit_transform(data_raw)\n",
        "\n",
        "# Print a few values.\n",
        "dataset[0:5]"
      ],
      "execution_count": 145,
      "outputs": [
        {
          "output_type": "execute_result",
          "data": {
            "text/plain": [
              "array([[0.26152682],\n",
              "       [0.62055206],\n",
              "       [0.6920625 ],\n",
              "       [0.7089958 ],\n",
              "       [0.73196006]], dtype=float32)"
            ]
          },
          "metadata": {
            "tags": []
          },
          "execution_count": 145
        }
      ]
    },
    {
      "cell_type": "code",
      "metadata": {
        "id": "VHu6Bi4Oi9E5",
        "colab_type": "code",
        "colab": {
          "base_uri": "https://localhost:8080/",
          "height": 34
        },
        "outputId": "181e0e06-f665-4041-916d-fc7527053b6e"
      },
      "source": [
        "# Using 70% of data for training, 30% for validation.\n",
        "TRAIN_SIZE = 0.70\n",
        "\n",
        "train_size = int(len(dataset) * TRAIN_SIZE)\n",
        "test_size = len(dataset) - train_size\n",
        "train, test = dataset[0:train_size, :], dataset[train_size:len(dataset), :]\n",
        "print(\"Number of entries (training set, test set): \" + str((len(train), len(test))))"
      ],
      "execution_count": 146,
      "outputs": [
        {
          "output_type": "stream",
          "text": [
            "Number of entries (training set, test set): (3068, 1315)\n"
          ],
          "name": "stdout"
        }
      ]
    },
    {
      "cell_type": "code",
      "metadata": {
        "id": "NQjhEdWcjMAv",
        "colab_type": "code",
        "colab": {}
      },
      "source": [
        "# FIXME: This helper function should be rewritten using numpy's shift function. See below.\n",
        "def create_dataset(dataset, window_size = 1):\n",
        "    data_X, data_Y = [], []\n",
        "    for i in range(len(dataset) - window_size - 1):\n",
        "        a = dataset[i:(i + window_size), 0]\n",
        "        data_X.append(a)\n",
        "        data_Y.append(dataset[i + window_size, 0])\n",
        "    return(np.array(data_X), np.array(data_Y))"
      ],
      "execution_count": 0,
      "outputs": []
    },
    {
      "cell_type": "code",
      "metadata": {
        "id": "ZWng4GiWjrdI",
        "colab_type": "code",
        "colab": {
          "base_uri": "https://localhost:8080/",
          "height": 85
        },
        "outputId": "43548322-4e5b-41db-b997-5de600b8f5b2"
      },
      "source": [
        "# Create test and training sets for one-step-ahead regression.\n",
        "window_size = 7\n",
        "train_X, train_Y = create_dataset(train, window_size)\n",
        "test_X, test_Y = create_dataset(test, window_size)\n",
        "print(\"Original training data shape:\")\n",
        "print(train_X.shape)\n",
        "\n",
        "# Reshape the input data into appropriate form for Keras.\n",
        "train_X = np.reshape(train_X, (train_X.shape[0], 1, train_X.shape[1]))\n",
        "test_X = np.reshape(test_X, (test_X.shape[0], 1, test_X.shape[1]))\n",
        "print(\"New training data shape:\")\n",
        "print(train_X.shape)"
      ],
      "execution_count": 148,
      "outputs": [
        {
          "output_type": "stream",
          "text": [
            "Original training data shape:\n",
            "(3060, 7)\n",
            "New training data shape:\n",
            "(3060, 1, 7)\n"
          ],
          "name": "stdout"
        }
      ]
    },
    {
      "cell_type": "code",
      "metadata": {
        "id": "4ehiOYyrrITs",
        "colab_type": "code",
        "colab": {
          "base_uri": "https://localhost:8080/",
          "height": 340
        },
        "outputId": "68994714-1462-4802-ebe3-8acc442ecd68"
      },
      "source": [
        "train_X"
      ],
      "execution_count": 149,
      "outputs": [
        {
          "output_type": "execute_result",
          "data": {
            "text/plain": [
              "array([[[0.26152682, 0.62055206, 0.6920625 , ..., 0.73196006,\n",
              "         0.6469667 , 0.52802837]],\n",
              "\n",
              "       [[0.62055206, 0.6920625 , 0.7089958 , ..., 0.6469667 ,\n",
              "         0.52802837, 0.4215883 ]],\n",
              "\n",
              "       [[0.6920625 , 0.7089958 , 0.73196006, ..., 0.52802837,\n",
              "         0.4215883 , 0.79214644]],\n",
              "\n",
              "       ...,\n",
              "\n",
              "       [[0.6786109 , 0.41987467, 0.3056345 , ..., 0.69960546,\n",
              "         0.70904875, 0.7113217 ]],\n",
              "\n",
              "       [[0.41987467, 0.3056345 , 0.6678841 , ..., 0.70904875,\n",
              "         0.7113217 , 0.6774162 ]],\n",
              "\n",
              "       [[0.3056345 , 0.6678841 , 0.69960546, ..., 0.7113217 ,\n",
              "         0.6774162 , 0.41152465]]], dtype=float32)"
            ]
          },
          "metadata": {
            "tags": []
          },
          "execution_count": 149
        }
      ]
    },
    {
      "cell_type": "code",
      "metadata": {
        "id": "BT2Vee5WjtpJ",
        "colab_type": "code",
        "colab": {}
      },
      "source": [
        "def fit_model(train_X, train_Y, window_size = 1):\n",
        "    model = Sequential()\n",
        "    \n",
        "    model.add(LSTM(40, \n",
        "                   input_shape = (1, window_size))) #(time_steps,input_size)=(1,7)\n",
        "    \n",
        "    model.add(Dense(1))\n",
        "    model.compile(loss = \"mean_squared_error\", \n",
        "                  optimizer = \"adam\")\n",
        "    model.fit(train_X, \n",
        "              train_Y, \n",
        "              epochs = 100, \n",
        "              batch_size = 100, \n",
        "              validation_data=(test_X, test_Y),\n",
        "              verbose = 2)\n",
        "    \n",
        "    return(model)\n",
        "\n",
        "# Fit the first model.\n",
        "model1 = fit_model(train_X, train_Y, window_size)"
      ],
      "execution_count": 0,
      "outputs": []
    },
    {
      "cell_type": "code",
      "metadata": {
        "id": "JqTw9O0Wj0EQ",
        "colab_type": "code",
        "colab": {
          "base_uri": "https://localhost:8080/",
          "height": 51
        },
        "outputId": "0530f14e-f5b8-4fe7-9861-b5dcda089bdb"
      },
      "source": [
        "import math\n",
        "def predict_and_score(model, X, Y):\n",
        "    # Make predictions on the original scale of the data.\n",
        "    pred = scaler.inverse_transform(model.predict(X))\n",
        "    # Prepare Y data to also be on the original scale for interpretability.\n",
        "    orig_data = scaler.inverse_transform([Y])\n",
        "    # Calculate RMSE.\n",
        "    score = math.sqrt(mean_squared_error(orig_data[0], pred[:, 0]))\n",
        "    return(score, pred)\n",
        "\n",
        "rmse_train, train_predict = predict_and_score(model1, train_X, train_Y)\n",
        "rmse_test, test_predict = predict_and_score(model1, test_X, test_Y)\n",
        "\n",
        "print(\"Training data score: %.2f RMSE\" % rmse_train)\n",
        "print(\"Test data score: %.2f RMSE\" % rmse_test)"
      ],
      "execution_count": 151,
      "outputs": [
        {
          "output_type": "stream",
          "text": [
            "Training data score: 76.12 RMSE\n",
            "Test data score: 72.31 RMSE\n"
          ],
          "name": "stdout"
        }
      ]
    },
    {
      "cell_type": "code",
      "metadata": {
        "id": "ujr3BPY4r_2U",
        "colab_type": "code",
        "colab": {
          "base_uri": "https://localhost:8080/",
          "height": 34
        },
        "outputId": "9c962e1c-d9ea-4f4c-d610-c9884f06cfa2"
      },
      "source": [
        "train_predict.shape"
      ],
      "execution_count": 152,
      "outputs": [
        {
          "output_type": "execute_result",
          "data": {
            "text/plain": [
              "(3060, 1)"
            ]
          },
          "metadata": {
            "tags": []
          },
          "execution_count": 152
        }
      ]
    },
    {
      "cell_type": "code",
      "metadata": {
        "id": "LnkchPwgk6py",
        "colab_type": "code",
        "colab": {
          "base_uri": "https://localhost:8080/",
          "height": 350
        },
        "outputId": "c186ef6c-5da9-4ab5-dd16-b5ef688b977a"
      },
      "source": [
        "import matplotlib.pyplot as plt\n",
        "# Start with training predictions.\n",
        "train_predict_plot = np.empty_like(dataset)\n",
        "train_predict_plot[:, :] = np.nan\n",
        "train_predict_plot[window_size:len(train_predict) + window_size, :] = train_predict\n",
        "\n",
        "# Add test predictions.\n",
        "test_predict_plot = np.empty_like(dataset)\n",
        "test_predict_plot[:, :] = np.nan\n",
        "test_predict_plot[len(train_predict) + (window_size * 2) + 1:len(dataset) - 1, :] = test_predict\n",
        "\n",
        "# Create the plot.\n",
        "plt.figure(figsize = (15, 5))\n",
        "plt.plot(scaler.inverse_transform(dataset), label = \"True value\")\n",
        "plt.plot(train_predict_plot, label = \"Training set prediction\")\n",
        "plt.plot(test_predict_plot, label = \"Test set prediction\")\n",
        "plt.xlabel(\"Time\")\n",
        "plt.ylabel(\"Consumption\")\n",
        "plt.title(\"Comparison true vs. predicted training / test\")\n",
        "plt.legend()\n",
        "plt.show()"
      ],
      "execution_count": 153,
      "outputs": [
        {
          "output_type": "display_data",
          "data": {
            "image/png": "[encoded data removed]",
            "text/plain": [
              "<Figure size 1080x360 with 1 Axes>"
            ]
          },
          "metadata": {
            "tags": []
          }
        }
      ]
    },
    {
      "cell_type": "code",
      "metadata": {
        "id": "iQgNdfYcKi06",
        "colab_type": "code",
        "colab": {}
      },
      "source": [
        ""
      ],
      "execution_count": 0,
      "outputs": []
    },
    {
      "cell_type": "markdown",
      "metadata": {
        "id": "OhhmRUUiKlPf",
        "colab_type": "text"
      },
      "source": [
        "\n",
        "Using additional features for model training"
      ]
    },
    {
      "cell_type": "code",
      "metadata": {
        "id": "2txccm5ToEG8",
        "colab_type": "code",
        "colab": {}
      },
      "source": [
        "\n",
        "import plotly.graph_objs as go\n",
        "import numpy as np\n",
        "import seaborn as sns\n",
        "\n",
        "%matplotlib inline"
      ],
      "execution_count": 0,
      "outputs": []
    },
    {
      "cell_type": "code",
      "metadata": {
        "id": "tnzx3_hMyZcb",
        "colab_type": "code",
        "colab": {
          "base_uri": "https://localhost:8080/",
          "height": 286
        },
        "outputId": "686f36f4-9c02-4211-baa6-437e0daa95d2"
      },
      "source": [
        "sns.heatmap(opsd_daily.corr(), annot=True, cmap='RdYlGn', linewidths=0.1, vmin=0)\n"
      ],
      "execution_count": 155,
      "outputs": [
        {
          "output_type": "execute_result",
          "data": {
            "text/plain": [
              "<matplotlib.axes._subplots.AxesSubplot at 0x7fe67dfe2e80>"
            ]
          },
          "metadata": {
            "tags": []
          },
          "execution_count": 155
        },
        {
          "output_type": "display_data",
          "data": {
            "image/png": "[encoded data removed]",
            "text/plain": [
              "<Figure size 432x288 with 2 Axes>"
            ]
          },
          "metadata": {
            "tags": []
          }
        }
      ]
    },
    {
      "cell_type": "code",
      "metadata": {
        "id": "lu5p9Vb9JeRr",
        "colab_type": "code",
        "colab": {}
      },
      "source": [
        "\n",
        "\n",
        "def series_to_supervised(data, n_in=1, n_out=1, dropnan=True):\n",
        "    n_vars = 1 if type(data) is list else data.shape[1]\n",
        "    df = pd.DataFrame(data)\n",
        "    cols, names = list(), list()\n",
        "    # input sequence (t-n, ... t-1)\n",
        "    for i in range(n_in, 0, -1):\n",
        "        cols.append(df.shift(i))\n",
        "        names += [('var%d(t-%d)' % (j+1, i)) for j in range(n_vars)]\n",
        "    # forecast sequence (t, t+1, ... t+n)\n",
        "    for i in range(0, n_out):\n",
        "        cols.append(df.shift(-i))\n",
        "        if i == 0:\n",
        "            names += [('var%d(t)' % (j+1)) for j in range(n_vars)]\n",
        "        else:\n",
        "            names += [('var%d(t+%d)' % (j+1, i)) for j in range(n_vars)]\n",
        "    # put it all together\n",
        "    agg = pd.concat(cols, axis=1)\n",
        "    agg.columns = names\n",
        "    # drop rows with NaN values\n",
        "    if dropnan:\n",
        "        agg.dropna(inplace=True)\n",
        "    return agg\n",
        "\n"
      ],
      "execution_count": 0,
      "outputs": []
    },
    {
      "cell_type": "code",
      "metadata": {
        "id": "AJQeb3t2KuHc",
        "colab_type": "code",
        "colab": {}
      },
      "source": [
        "\n",
        "\n",
        "scaler = MinMaxScaler(feature_range=(0, 1))\n",
        "scaled = scaler.fit_transform(opsd_daily.values)\n",
        "\n"
      ],
      "execution_count": 0,
      "outputs": []
    },
    {
      "cell_type": "code",
      "metadata": {
        "id": "gwvpVnTSLdtR",
        "colab_type": "code",
        "colab": {
          "base_uri": "https://localhost:8080/",
          "height": 204
        },
        "outputId": "235086d9-5a86-4727-ade9-33e05d413ae9"
      },
      "source": [
        "reframed = series_to_supervised(scaled, 1, 1)\n",
        "reframed.drop(reframed.columns[[5,6,7]], axis=1, inplace=True)\n",
        "\n",
        "reframed.head()"
      ],
      "execution_count": 158,
      "outputs": [
        {
          "output_type": "execute_result",
          "data": {
            "text/html": [
              "<div>\n",
              "<style scoped>\n",
              "    .dataframe tbody tr th:only-of-type {\n",
              "        vertical-align: middle;\n",
              "    }\n",
              "\n",
              "    .dataframe tbody tr th {\n",
              "        vertical-align: top;\n",
              "    }\n",
              "\n",
              "    .dataframe thead th {\n",
              "        text-align: right;\n",
              "    }\n",
              "</style>\n",
              "<table border=\"1\" class=\"dataframe\">\n",
              "  <thead>\n",
              "    <tr style=\"text-align: right;\">\n",
              "      <th></th>\n",
              "      <th>var1(t-1)</th>\n",
              "      <th>var2(t-1)</th>\n",
              "      <th>var3(t-1)</th>\n",
              "      <th>var4(t-1)</th>\n",
              "      <th>var1(t)</th>\n",
              "    </tr>\n",
              "  </thead>\n",
              "  <tbody>\n",
              "    <tr>\n",
              "      <th>1</th>\n",
              "      <td>0.261527</td>\n",
              "      <td>0.193849</td>\n",
              "      <td>0.3643</td>\n",
              "      <td>0.302605</td>\n",
              "      <td>0.620552</td>\n",
              "    </tr>\n",
              "    <tr>\n",
              "      <th>2</th>\n",
              "      <td>0.620552</td>\n",
              "      <td>0.193849</td>\n",
              "      <td>0.3643</td>\n",
              "      <td>0.302605</td>\n",
              "      <td>0.692063</td>\n",
              "    </tr>\n",
              "    <tr>\n",
              "      <th>3</th>\n",
              "      <td>0.692063</td>\n",
              "      <td>0.193849</td>\n",
              "      <td>0.3643</td>\n",
              "      <td>0.302605</td>\n",
              "      <td>0.708996</td>\n",
              "    </tr>\n",
              "    <tr>\n",
              "      <th>4</th>\n",
              "      <td>0.708996</td>\n",
              "      <td>0.193849</td>\n",
              "      <td>0.3643</td>\n",
              "      <td>0.302605</td>\n",
              "      <td>0.731960</td>\n",
              "    </tr>\n",
              "    <tr>\n",
              "      <th>5</th>\n",
              "      <td>0.731960</td>\n",
              "      <td>0.193849</td>\n",
              "      <td>0.3643</td>\n",
              "      <td>0.302605</td>\n",
              "      <td>0.646967</td>\n",
              "    </tr>\n",
              "  </tbody>\n",
              "</table>\n",
              "</div>"
            ],
            "text/plain": [
              "   var1(t-1)  var2(t-1)  var3(t-1)  var4(t-1)   var1(t)\n",
              "1   0.261527   0.193849     0.3643   0.302605  0.620552\n",
              "2   0.620552   0.193849     0.3643   0.302605  0.692063\n",
              "3   0.692063   0.193849     0.3643   0.302605  0.708996\n",
              "4   0.708996   0.193849     0.3643   0.302605  0.731960\n",
              "5   0.731960   0.193849     0.3643   0.302605  0.646967"
            ]
          },
          "metadata": {
            "tags": []
          },
          "execution_count": 158
        }
      ]
    },
    {
      "cell_type": "code",
      "metadata": {
        "id": "v_c20Z2mMBuq",
        "colab_type": "code",
        "colab": {
          "base_uri": "https://localhost:8080/",
          "height": 34
        },
        "outputId": "c5dc1c52-3b83-4805-f67a-47c9ae9f2153"
      },
      "source": [
        "\n",
        "\n",
        "values = reframed.values\n",
        "n_train_hours = int(len(values) * 0.7)\n",
        "train = values[:n_train_hours, :]\n",
        "test = values[n_train_hours:, :]\n",
        "# split into input and outputs\n",
        "train_X, train_y = train[:, :-1], train[:, -1]\n",
        "test_X, test_y = test[:, :-1], test[:, -1]\n",
        "# reshape input to be 3D [samples, timesteps, features]\n",
        "train_X = train_X.reshape((train_X.shape[0], 1, train_X.shape[1]))\n",
        "test_X = test_X.reshape((test_X.shape[0], 1, test_X.shape[1]))\n",
        "print(train_X.shape, train_y.shape, test_X.shape, test_y.shape)\n",
        "\n"
      ],
      "execution_count": 159,
      "outputs": [
        {
          "output_type": "stream",
          "text": [
            "(3067, 1, 4) (3067,) (1315, 1, 4) (1315,)\n"
          ],
          "name": "stdout"
        }
      ]
    },
    {
      "cell_type": "code",
      "metadata": {
        "id": "cQ1GbMwGONuF",
        "colab_type": "code",
        "colab": {}
      },
      "source": [
        "def fit_model(train_X, train_Y, window_size = 1):\n",
        "    model = Sequential()\n",
        "    \n",
        "    model.add(LSTM(50, \n",
        "                   input_shape = (train_X.shape[1], train_X.shape[2]))) #(time_steps,input_size)=(1,4)\n",
        "    \n",
        "    model.add(Dense(1))\n",
        "    model.compile(loss = \"mean_squared_error\", \n",
        "                  optimizer = \"adam\")\n",
        "    model.fit(train_X, \n",
        "              train_Y, \n",
        "              epochs = 100, \n",
        "              batch_size = 100, \n",
        "              validation_data=(test_X, test_y),\n",
        "              verbose = 2)\n",
        "    \n",
        "    return(model)\n",
        "\n",
        "# Fit the first model.\n",
        "model2 = fit_model(train_X, train_y, window_size)"
      ],
      "execution_count": 0,
      "outputs": []
    },
    {
      "cell_type": "code",
      "metadata": {
        "id": "WcHBGUVSO5Nz",
        "colab_type": "code",
        "colab": {
          "base_uri": "https://localhost:8080/",
          "height": 269
        },
        "outputId": "3ce3aaab-980a-45d4-c799-8fbf25654c27"
      },
      "source": [
        "yhat = model2.predict(test_X)\n",
        "pyplot.plot(yhat, label='predict')\n",
        "pyplot.plot(test_y, label='true')\n",
        "pyplot.legend()\n",
        "pyplot.show()"
      ],
      "execution_count": 161,
      "outputs": [
        {
          "output_type": "display_data",
          "data": {
            "image/png": "[encoded data removed]",
            "text/plain": [
              "<Figure size 432x288 with 1 Axes>"
            ]
          },
          "metadata": {
            "tags": []
          }
        }
      ]
    },
    {
      "cell_type": "code",
      "metadata": {
        "id": "EJo9sHbhPP1S",
        "colab_type": "code",
        "colab": {}
      },
      "source": [
        "from numpy import concatenate\n",
        "\n",
        "#Scaler Inverse Y back to normal value\n",
        "test_X = test_X.reshape((test_X.shape[0], test_X.shape[2]))\n",
        "# invert scaling for forecast\n",
        "inv_yhat = concatenate((yhat, test_X[:, 1:]), axis=1)\n",
        "inv_yhat = scaler.inverse_transform(inv_yhat)\n",
        "inv_yhat = inv_yhat[:,0]\n",
        "# invert scaling for actual\n",
        "test_y = test_y.reshape((len(test_y), 1))\n",
        "inv_y = concatenate((test_y, test_X[:, 1:]), axis=1)\n",
        "inv_y = scaler.inverse_transform(inv_y)\n",
        "inv_y = inv_y[:,0]"
      ],
      "execution_count": 0,
      "outputs": []
    },
    {
      "cell_type": "code",
      "metadata": {
        "id": "UKG9pDNcPWkj",
        "colab_type": "code",
        "colab": {
          "base_uri": "https://localhost:8080/",
          "height": 34
        },
        "outputId": "72049088-8ce3-4dc1-a23c-269e7f7b401a"
      },
      "source": [
        "rmse = math.sqrt(mean_squared_error(inv_y, inv_yhat))\n",
        "print('Test RMSE: %.3f' % rmse)"
      ],
      "execution_count": 163,
      "outputs": [
        {
          "output_type": "stream",
          "text": [
            "Test RMSE: 133.429\n"
          ],
          "name": "stdout"
        }
      ]
    },
    {
      "cell_type": "code",
      "metadata": {
        "id": "bZqB1bC0PwEp",
        "colab_type": "code",
        "colab": {}
      },
      "source": [
        ""
      ],
      "execution_count": 0,
      "outputs": []
    }
  ]
}