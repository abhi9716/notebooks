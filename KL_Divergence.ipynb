{
  "nbformat": 4,
  "nbformat_minor": 0,
  "metadata": {
    "kernelspec": {
      "display_name": "Python 3",
      "language": "python",
      "name": "python3"
    },
    "language_info": {
      "codemirror_mode": {
        "name": "ipython",
        "version": 3
      },
      "file_extension": ".py",
      "mimetype": "text/x-python",
      "name": "python",
      "nbconvert_exporter": "python",
      "pygments_lexer": "ipython3",
      "version": "3.6.7"
    },
    "colab": {
      "name": "KL_Divergence.ipynb",
      "version": "0.3.2",
      "provenance": [],
      "include_colab_link": true
    }
  },
  "cells": [
    {
      "cell_type": "markdown",
      "metadata": {
        "id": "view-in-github",
        "colab_type": "text"
      },
      "source": [
        "<a href=\"https://colab.research.google.com/github/abhi9716/notebooks/blob/master/KL_Divergence.ipynb\" target=\"_parent\"><img src=\"https://colab.research.google.com/assets/colab-badge.svg\" alt=\"Open In Colab\"/></a>"
      ]
    },
    {
      "cell_type": "markdown",
      "metadata": {
        "id": "aAQOlvrVUIjZ",
        "colab_type": "text"
      },
      "source": [
        "# KL Divergence"
      ]
    },
    {
      "cell_type": "markdown",
      "metadata": {
        "id": "mcB_BldcUIjb",
        "colab_type": "text"
      },
      "source": [
        "KL Divergence is a measure of how one probability distribution diverges from a second expected probability distribution. So, if the value of divergence is really small, then they are very close. If the number is high, then they are far apart."
      ]
    },
    {
      "cell_type": "code",
      "metadata": {
        "id": "RJ90x87IUIjc",
        "colab_type": "code",
        "colab": {}
      },
      "source": [
        "#import library\n",
        "import pandas as pd\n",
        "import numpy as np"
      ],
      "execution_count": 0,
      "outputs": []
    },
    {
      "cell_type": "markdown",
      "metadata": {
        "id": "L7KZdceRUIjg",
        "colab_type": "raw"
      },
      "source": [
        "FOR DISCRETE DISTRIBUTIONS"
      ]
    },
    {
      "cell_type": "code",
      "metadata": {
        "id": "aQWNWrTVUIjh",
        "colab_type": "code",
        "colab": {}
      },
      "source": [
        "#lets define data\n",
        "data1 = [[4-4.5,\"a\", 1], [4.5-5,\"b\", 3], [5-5.5,\"c\", 8],  [5.5-6,\"d\", 8]]\n",
        "data2 = [[4-4.5,\"a\", 2], [4.5-5,\"b\", 5], [5-5.5,\"c\", 7],  [5.5-6,\"d\", 6]]\n",
        "data3 = [[4-4.5,\"a\", 1], [4.5-5,\"b\", 2], [5-5.5,\"c\", 6],  [5.5-6,\"d\", 11]]\n",
        "class_A=pd.DataFrame(data1,columns = ['height','range', 'no_of_students'])\n",
        "class_B=pd.DataFrame(data2,columns = ['height','range', 'no_of_students'])\n",
        "class_C=pd.DataFrame(data3,columns = ['height','range', 'no_of_students'])"
      ],
      "execution_count": 0,
      "outputs": []
    },
    {
      "cell_type": "code",
      "metadata": {
        "id": "GmnpmIS1UIjk",
        "colab_type": "code",
        "colab": {}
      },
      "source": [
        "def KL_Divergence(dt1,dt2):\n",
        "    \n",
        "    # Kullback-Leibler divergence D(p || q) for discrete distributions\n",
        "    \n",
        "    p=[x/np.sum(dt1.values) for x in dt1.values]\n",
        "    q=[x/np.sum(dt2.values) for x in dt2.values]\n",
        "    p = np.asarray(p, dtype=np.float)\n",
        "    q = np.asarray(q, dtype=np.float)\n",
        "    \n",
        "    return np.sum(np.where(q != 0, p * np.log(p / q), 0))\n"
      ],
      "execution_count": 0,
      "outputs": []
    },
    {
      "cell_type": "code",
      "metadata": {
        "scrolled": true,
        "id": "IlbVLDmkUIjn",
        "colab_type": "code",
        "colab": {},
        "outputId": "df05b287-0475-43b6-e088-5251f22544ca"
      },
      "source": [
        "KL_Divergence(class_A.no_of_students,class_B.no_of_students)"
      ],
      "execution_count": 0,
      "outputs": [
        {
          "output_type": "execute_result",
          "data": {
            "text/plain": [
              "0.05720418343762566"
            ]
          },
          "metadata": {
            "tags": []
          },
          "execution_count": 4
        }
      ]
    },
    {
      "cell_type": "code",
      "metadata": {
        "id": "Ja_OT-B1UIjr",
        "colab_type": "code",
        "colab": {},
        "outputId": "f1a97024-f9c3-43cc-918f-20faa2b4ed18"
      },
      "source": [
        "#compare our function with scipy KL_Divergence\n",
        "from scipy import stats\n",
        "\n",
        "p=[x/np.sum(class_A.no_of_students.values) for x in class_A.no_of_students.values]\n",
        "q=[x/np.sum(class_B.no_of_students.values) for x in class_B.no_of_students.values]\n",
        "\n",
        "stats.entropy(pk=p, qk=q)"
      ],
      "execution_count": 0,
      "outputs": [
        {
          "output_type": "execute_result",
          "data": {
            "text/plain": [
              "0.05720418343762566"
            ]
          },
          "metadata": {
            "tags": []
          },
          "execution_count": 13
        }
      ]
    },
    {
      "cell_type": "code",
      "metadata": {
        "id": "els_aQ18UIjv",
        "colab_type": "code",
        "colab": {},
        "outputId": "8e35120e-7e99-4b24-a777-749767d421ea"
      },
      "source": [
        "#compare two discrete distributions \n",
        "D_KL1=KL_Divergence(class_A.no_of_students,class_B.no_of_students)\n",
        "D_KL2=KL_Divergence(class_A.no_of_students,class_C.no_of_students)\n",
        "\n",
        "#since D_KL1 > D_KL2 A is more closer to C as compared to B\n",
        "\n",
        "(D_KL1,D_KL2)"
      ],
      "execution_count": 0,
      "outputs": [
        {
          "output_type": "execute_result",
          "data": {
            "text/plain": [
              "(0.05720418343762566, 0.04851110274952322)"
            ]
          },
          "metadata": {
            "tags": []
          },
          "execution_count": 14
        }
      ]
    },
    {
      "cell_type": "markdown",
      "metadata": {
        "id": "9UFYuoVYUIjy",
        "colab_type": "raw"
      },
      "source": [
        "FOR CONTINUOUS DISTRIBUTIONS"
      ]
    },
    {
      "cell_type": "code",
      "metadata": {
        "id": "bETDcpyUUIjz",
        "colab_type": "code",
        "colab": {},
        "outputId": "2e47517d-4784-45c7-a492-91c097c9a9e9"
      },
      "source": [
        "\n",
        "# KL Divergence computes the shaded area shown below.\n",
        "\n",
        "import matplotlib.pyplot as plt\n",
        "x_axis = np.arange(-10, 10, 0.001)\n",
        "# Mean = 0, SD = 2.\n",
        "dist_a = stats.norm.pdf(x_axis,0,2)\n",
        "# Mean = 1, SD = 2\n",
        "dist_b = stats.norm.pdf(x_axis,1,2)\n",
        "\n",
        "plt.plot(x_axis, dist_a)\n",
        "plt.plot(x_axis, dist_b)\n",
        "plt.fill_between(x_axis, dist_a, dist_b, facecolor='green', interpolate=True)\n",
        "plt.fill_between(x_axis, dist_a, dist_b, facecolor='blue', interpolate=True)\n",
        "plt.show()"
      ],
      "execution_count": 0,
      "outputs": [
        {
          "output_type": "display_data",
          "data": {
            "image/png": "[encoded data removed]",
            "text/plain": [
              "<Figure size 432x288 with 1 Axes>"
            ]
          },
          "metadata": {
            "tags": []
          }
        }
      ]
    },
    {
      "cell_type": "code",
      "metadata": {
        "id": "LneFFQ7KUIj2",
        "colab_type": "code",
        "colab": {}
      },
      "source": [
        ""
      ],
      "execution_count": 0,
      "outputs": []
    },
    {
      "cell_type": "code",
      "metadata": {
        "id": "g6qzu6cvUIj6",
        "colab_type": "code",
        "colab": {}
      },
      "source": [
        "#lets define data\n",
        "# A=[mean,standard_deviation]\n",
        "A=[4,2.1]\n",
        "B=[4.2,3.1]\n",
        "C=[5.2,2]"
      ],
      "execution_count": 0,
      "outputs": []
    },
    {
      "cell_type": "code",
      "metadata": {
        "id": "-RkkTM2NUIj9",
        "colab_type": "code",
        "colab": {}
      },
      "source": [
        "\n",
        "def gaussian_divergence(l1,l2):\n",
        "    # KL-divergence of two Gaussians.\n",
        "    \n",
        "    mu1=l1[0]\n",
        "    mu2=l2[0]\n",
        "    sig1=l1[1]\n",
        "    sig2=l2[1]\n",
        "    \n",
        "    sigdiff = sig2*sig2 - sig1*sig1\n",
        "    sigprod = (pow((sig1*sig2),2))\n",
        "    lograt  = np.log(sig2/sig1)\n",
        "    \n",
        "    return lograt + ((sigdiff)*(mu2*mu2+sig2*sig2) / (2*sigprod))-((mu1*sig2*sig2-mu2*sig1*sig1)*mu2/(pow(sig1*sig2,2)))+(mu1*mu1*sig2*sig2-mu2*mu2*sig1*sig1)/(2*sigprod)"
      ],
      "execution_count": 0,
      "outputs": []
    },
    {
      "cell_type": "code",
      "metadata": {
        "id": "ud2l-lITUIkB",
        "colab_type": "code",
        "colab": {},
        "outputId": "ac4d42f3-00ff-4c59-82e1-7158037fd3aa"
      },
      "source": [
        "gaussian_divergence(A,B)"
      ],
      "execution_count": 0,
      "outputs": [
        {
          "output_type": "execute_result",
          "data": {
            "text/plain": [
              "0.9835690751517457"
            ]
          },
          "metadata": {
            "tags": []
          },
          "execution_count": 18
        }
      ]
    },
    {
      "cell_type": "code",
      "metadata": {
        "id": "dqEUpSdZUIkE",
        "colab_type": "code",
        "colab": {},
        "outputId": "94901b43-93a7-4f0c-d3b1-40efe90cc247"
      },
      "source": [
        "#compare two continuous distributions \n",
        "D_KL1=gaussian_divergence(A,B)\n",
        "D_KL2=gaussian_divergence(A,C)\n",
        "\n",
        "#since D_KL1 > D_KL2 A is more closer to C as compared to B\n",
        "\n",
        "(D_KL1,D_KL2)"
      ],
      "execution_count": 0,
      "outputs": [
        {
          "output_type": "execute_result",
          "data": {
            "text/plain": [
              "(0.9835690751517457, 0.06798988118204297)"
            ]
          },
          "metadata": {
            "tags": []
          },
          "execution_count": 19
        }
      ]
    },
    {
      "cell_type": "code",
      "metadata": {
        "id": "t8Xu4U7rUIkI",
        "colab_type": "code",
        "colab": {}
      },
      "source": [
        ""
      ],
      "execution_count": 0,
      "outputs": []
    },
    {
      "cell_type": "code",
      "metadata": {
        "id": "F-HQ0IVEUIkL",
        "colab_type": "code",
        "colab": {}
      },
      "source": [
        ""
      ],
      "execution_count": 0,
      "outputs": []
    }
  ]
}